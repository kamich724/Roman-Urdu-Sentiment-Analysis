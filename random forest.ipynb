{
 "cells": [
  {
   "cell_type": "markdown",
   "metadata": {},
   "source": [
    "# Roman Urdu Sentiment Analysis"
   ]
  },
  {
   "cell_type": "code",
   "execution_count": 5,
   "metadata": {
    "_cell_guid": "b1076dfc-b9ad-4769-8c92-a6c4dae69d19",
    "_uuid": "8f2839f25d086af736a60e9eeb907d3b93b6e0e5"
   },
   "outputs": [],
   "source": [
    "import numpy as np # linear algebra\n",
    "import pandas as pd # data processing, CSV file I/O (e.g. pd.read_csv)\n",
    "\n",
    "# Input data files are available in the \"../input/\" directory.\n",
    "# For example, running this (by clicking run or pressing Shift+Enter) will list all files under the input directory\n",
    "\n",
    "import os\n",
    "for dirname, _, filenames in os.walk('/kaggle/input'):\n",
    "    for filename in filenames:\n",
    "        print(os.path.join(dirname, filename))\n",
    "\n",
    "# Any results you write to the current directory are saved as output."
   ]
  },
  {
   "cell_type": "markdown",
   "metadata": {},
   "source": [
    "### **Plan of Work** \n",
    "\n",
    "Sentiment analysis involves the following stages. \n",
    "\n",
    "* Loading and cleaning the data\n",
    "* Exploratory data analysis\n",
    "* Ommiting stop words or common words\n",
    "* Creating new features\n",
    "* Plotting most frequently used words\n",
    "* Vectorizing sentences to build a matrix\n",
    "* Training and testing the machine learning model\n",
    "* Evaluating the machine learning model accuracy"
   ]
  },
  {
   "cell_type": "code",
   "execution_count": 6,
   "metadata": {},
   "outputs": [],
   "source": [
    "# Loading required python packages and libraries\n",
    "import nltk\n",
    "import pandas as pd\n",
    "import re\n",
    "from sklearn.feature_extraction.text import TfidfVectorizer\n",
    "import string\n",
    "import pickle\n",
    "import random\n",
    "import numpy as np\n",
    "\n",
    "import matplotlib.pyplot as plt\n",
    "import seaborn as sns\n",
    "sns.set()\n",
    "\n",
    "from wordcloud import WordCloud,STOPWORDS\n",
    "\n",
    "stopwords = nltk.corpus.stopwords.words('english')\n",
    "ps = nltk.PorterStemmer()"
   ]
  },
  {
   "cell_type": "code",
   "execution_count": 7,
   "metadata": {},
   "outputs": [
    {
     "data": {
      "text/html": [
       "<div>\n",
       "<style scoped>\n",
       "    .dataframe tbody tr th:only-of-type {\n",
       "        vertical-align: middle;\n",
       "    }\n",
       "\n",
       "    .dataframe tbody tr th {\n",
       "        vertical-align: top;\n",
       "    }\n",
       "\n",
       "    .dataframe thead th {\n",
       "        text-align: right;\n",
       "    }\n",
       "</style>\n",
       "<table border=\"1\" class=\"dataframe\">\n",
       "  <thead>\n",
       "    <tr style=\"text-align: right;\">\n",
       "      <th></th>\n",
       "      <th>0</th>\n",
       "      <th>1</th>\n",
       "      <th>2</th>\n",
       "    </tr>\n",
       "  </thead>\n",
       "  <tbody>\n",
       "    <tr>\n",
       "      <th>0</th>\n",
       "      <td>Sai kha ya her kisi kay bus ki bat nhi hai lak...</td>\n",
       "      <td>Positive</td>\n",
       "      <td>NaN</td>\n",
       "    </tr>\n",
       "    <tr>\n",
       "      <th>1</th>\n",
       "      <td>sahi bt h</td>\n",
       "      <td>Positive</td>\n",
       "      <td>NaN</td>\n",
       "    </tr>\n",
       "    <tr>\n",
       "      <th>2</th>\n",
       "      <td>Kya bt hai,</td>\n",
       "      <td>Positive</td>\n",
       "      <td>NaN</td>\n",
       "    </tr>\n",
       "    <tr>\n",
       "      <th>3</th>\n",
       "      <td>Wah je wah</td>\n",
       "      <td>Positive</td>\n",
       "      <td>NaN</td>\n",
       "    </tr>\n",
       "    <tr>\n",
       "      <th>4</th>\n",
       "      <td>Are wha kaya bat hai</td>\n",
       "      <td>Positive</td>\n",
       "      <td>NaN</td>\n",
       "    </tr>\n",
       "  </tbody>\n",
       "</table>\n",
       "</div>"
      ],
      "text/plain": [
       "                                                   0         1    2\n",
       "0  Sai kha ya her kisi kay bus ki bat nhi hai lak...  Positive  NaN\n",
       "1                                          sahi bt h  Positive  NaN\n",
       "2                                        Kya bt hai,  Positive  NaN\n",
       "3                                         Wah je wah  Positive  NaN\n",
       "4                               Are wha kaya bat hai  Positive  NaN"
      ]
     },
     "execution_count": 7,
     "metadata": {},
     "output_type": "execute_result"
    }
   ],
   "source": [
    "# Load the csv file using Pandas and print first 5 lines\n",
    "data = pd.read_csv(\"D:\\SentimentAnalysis_RomanUrdu_data-master\\Roman Urdu DataSet.csv\",header=None)\n",
    "data.head()"
   ]
  },
  {
   "cell_type": "markdown",
   "metadata": {},
   "source": [
    "### **Data Preprocessing**\n",
    "\n",
    "In this step, data is preprocessed or cleaned for missing column names, incorrect values of sentiments, null values present in the text body. "
   ]
  },
  {
   "cell_type": "code",
   "execution_count": 8,
   "metadata": {},
   "outputs": [],
   "source": [
    "# Adding column names\n",
    "data.columns =['body_text','sentiment','unknown']"
   ]
  },
  {
   "cell_type": "code",
   "execution_count": 9,
   "metadata": {},
   "outputs": [
    {
     "name": "stdout",
     "output_type": "stream",
     "text": [
      "Unique values of the sentiments are ['Positive' 'Neutral' 'Negative' 'Neative']\n",
      "Unique values of the unknonwn column are [nan '----------------' '----------' '-------' '------' '9090' 'till here']\n"
     ]
    }
   ],
   "source": [
    "# Print unique values in column 1 and 2\n",
    "print ('Unique values of the sentiments are', data.sentiment.unique())\n",
    "print ('Unique values of the unknonwn column are', data.unknown.unique())"
   ]
  },
  {
   "cell_type": "code",
   "execution_count": 10,
   "metadata": {},
   "outputs": [],
   "source": [
    "# 'Neative' sentiment will be most likely Negative, so it is replaced accordingly. \n",
    "data[data['sentiment']=='Neative']='Negative'"
   ]
  },
  {
   "cell_type": "code",
   "execution_count": 11,
   "metadata": {},
   "outputs": [
    {
     "name": "stdout",
     "output_type": "stream",
     "text": [
      "Unique values of the sentiments are ['Positive' 'Neutral' 'Negative']\n"
     ]
    }
   ],
   "source": [
    "# Verify we replaced all the 'Neative'\n",
    "print ('Unique values of the sentiments are', data.sentiment.unique())"
   ]
  },
  {
   "cell_type": "code",
   "execution_count": 12,
   "metadata": {},
   "outputs": [
    {
     "data": {
      "text/plain": [
       "body_text        1\n",
       "sentiment        0\n",
       "unknown      20221\n",
       "dtype: int64"
      ]
     },
     "execution_count": 12,
     "metadata": {},
     "output_type": "execute_result"
    }
   ],
   "source": [
    "# Checking Null values in the data\n",
    "data.isna().sum()"
   ]
  },
  {
   "cell_type": "code",
   "execution_count": 13,
   "metadata": {},
   "outputs": [],
   "source": [
    "# Dropping the text body row which has a null value\n",
    "data = data.dropna(subset=['body_text'])"
   ]
  },
  {
   "cell_type": "code",
   "execution_count": 14,
   "metadata": {},
   "outputs": [],
   "source": [
    "# Last column can be dropped as it does not contain any useful information. Here axis=1, means column. \n",
    "data = data.drop('unknown', axis=1)"
   ]
  },
  {
   "cell_type": "code",
   "execution_count": 15,
   "metadata": {},
   "outputs": [
    {
     "data": {
      "text/html": [
       "<div>\n",
       "<style scoped>\n",
       "    .dataframe tbody tr th:only-of-type {\n",
       "        vertical-align: middle;\n",
       "    }\n",
       "\n",
       "    .dataframe tbody tr th {\n",
       "        vertical-align: top;\n",
       "    }\n",
       "\n",
       "    .dataframe thead th {\n",
       "        text-align: right;\n",
       "    }\n",
       "</style>\n",
       "<table border=\"1\" class=\"dataframe\">\n",
       "  <thead>\n",
       "    <tr style=\"text-align: right;\">\n",
       "      <th></th>\n",
       "      <th>body_text</th>\n",
       "      <th>sentiment</th>\n",
       "    </tr>\n",
       "  </thead>\n",
       "  <tbody>\n",
       "    <tr>\n",
       "      <th>0</th>\n",
       "      <td>Sai kha ya her kisi kay bus ki bat nhi hai lak...</td>\n",
       "      <td>Positive</td>\n",
       "    </tr>\n",
       "    <tr>\n",
       "      <th>1</th>\n",
       "      <td>sahi bt h</td>\n",
       "      <td>Positive</td>\n",
       "    </tr>\n",
       "    <tr>\n",
       "      <th>2</th>\n",
       "      <td>Kya bt hai,</td>\n",
       "      <td>Positive</td>\n",
       "    </tr>\n",
       "    <tr>\n",
       "      <th>3</th>\n",
       "      <td>Wah je wah</td>\n",
       "      <td>Positive</td>\n",
       "    </tr>\n",
       "    <tr>\n",
       "      <th>4</th>\n",
       "      <td>Are wha kaya bat hai</td>\n",
       "      <td>Positive</td>\n",
       "    </tr>\n",
       "  </tbody>\n",
       "</table>\n",
       "</div>"
      ],
      "text/plain": [
       "                                           body_text sentiment\n",
       "0  Sai kha ya her kisi kay bus ki bat nhi hai lak...  Positive\n",
       "1                                          sahi bt h  Positive\n",
       "2                                        Kya bt hai,  Positive\n",
       "3                                         Wah je wah  Positive\n",
       "4                               Are wha kaya bat hai  Positive"
      ]
     },
     "execution_count": 15,
     "metadata": {},
     "output_type": "execute_result"
    }
   ],
   "source": [
    "data.head()"
   ]
  },
  {
   "cell_type": "code",
   "execution_count": 16,
   "metadata": {},
   "outputs": [
    {
     "data": {
      "text/html": [
       "<div>\n",
       "<style scoped>\n",
       "    .dataframe tbody tr th:only-of-type {\n",
       "        vertical-align: middle;\n",
       "    }\n",
       "\n",
       "    .dataframe tbody tr th {\n",
       "        vertical-align: top;\n",
       "    }\n",
       "\n",
       "    .dataframe thead th {\n",
       "        text-align: right;\n",
       "    }\n",
       "</style>\n",
       "<table border=\"1\" class=\"dataframe\">\n",
       "  <thead>\n",
       "    <tr style=\"text-align: right;\">\n",
       "      <th></th>\n",
       "      <th>body_text</th>\n",
       "      <th>sentiment</th>\n",
       "    </tr>\n",
       "  </thead>\n",
       "  <tbody>\n",
       "    <tr>\n",
       "      <th>count</th>\n",
       "      <td>20228</td>\n",
       "      <td>20228</td>\n",
       "    </tr>\n",
       "    <tr>\n",
       "      <th>unique</th>\n",
       "      <td>19664</td>\n",
       "      <td>3</td>\n",
       "    </tr>\n",
       "    <tr>\n",
       "      <th>top</th>\n",
       "      <td>Good</td>\n",
       "      <td>Neutral</td>\n",
       "    </tr>\n",
       "    <tr>\n",
       "      <th>freq</th>\n",
       "      <td>23</td>\n",
       "      <td>8928</td>\n",
       "    </tr>\n",
       "  </tbody>\n",
       "</table>\n",
       "</div>"
      ],
      "text/plain": [
       "       body_text sentiment\n",
       "count      20228     20228\n",
       "unique     19664         3\n",
       "top         Good   Neutral\n",
       "freq          23      8928"
      ]
     },
     "execution_count": 16,
     "metadata": {},
     "output_type": "execute_result"
    }
   ],
   "source": [
    "data.describe()"
   ]
  },
  {
   "cell_type": "markdown",
   "metadata": {},
   "source": [
    "### **Data Exploration**\n",
    "\n",
    "From the data of sentiments, it looks like it is not balanced. There are more neutral comments than positive and negative comments. When the class distribution is unbalanced, accuracy is considered a poor choice of evaluation of classifier. This is due the fact that, it gives high scores to models which just predict the most frequent class."
   ]
  },
  {
   "cell_type": "code",
   "execution_count": 17,
   "metadata": {},
   "outputs": [
    {
     "name": "stdout",
     "output_type": "stream",
     "text": [
      "Number of sentiments in each category are as below\n",
      "Neutral     8928\n",
      "Positive    6013\n",
      "Negative    5287\n",
      "Name: sentiment, dtype: int64\n",
      "\n",
      "Perecentage sentiments in each category are as below\n",
      "Neutral     44.136840\n",
      "Positive    29.726122\n",
      "Negative    26.137038\n",
      "Name: sentiment, dtype: float64\n"
     ]
    },
    {
     "data": {
      "text/plain": [
       "<AxesSubplot:>"
      ]
     },
     "execution_count": 17,
     "metadata": {},
     "output_type": "execute_result"
    },
    {
     "data": {
      "image/png": "[encoded data removed]",
      "text/plain": [
       "<Figure size 432x288 with 1 Axes>"
      ]
     },
     "metadata": {},
     "output_type": "display_data"
    }
   ],
   "source": [
    "print ('Number of sentiments in each category are as below')\n",
    "print (data.sentiment.value_counts())\n",
    "\n",
    "print ('\\nPerecentage sentiments in each category are as below')\n",
    "print (data.sentiment.value_counts()/data.shape[0]*100)\n",
    "\n",
    "data.sentiment.value_counts().plot(kind='bar')"
   ]
  },
  {
   "cell_type": "code",
   "execution_count": 18,
   "metadata": {},
   "outputs": [],
   "source": [
    "# Dropping neutral sentiment sentences. \n",
    "data = data[data.sentiment != 'Neutral']"
   ]
  },
  {
   "cell_type": "code",
   "execution_count": 19,
   "metadata": {},
   "outputs": [],
   "source": [
    "data = data.reset_index(drop=True)"
   ]
  },
  {
   "cell_type": "code",
   "execution_count": 20,
   "metadata": {},
   "outputs": [
    {
     "data": {
      "text/html": [
       "<div>\n",
       "<style scoped>\n",
       "    .dataframe tbody tr th:only-of-type {\n",
       "        vertical-align: middle;\n",
       "    }\n",
       "\n",
       "    .dataframe tbody tr th {\n",
       "        vertical-align: top;\n",
       "    }\n",
       "\n",
       "    .dataframe thead th {\n",
       "        text-align: right;\n",
       "    }\n",
       "</style>\n",
       "<table border=\"1\" class=\"dataframe\">\n",
       "  <thead>\n",
       "    <tr style=\"text-align: right;\">\n",
       "      <th></th>\n",
       "      <th>body_text</th>\n",
       "      <th>sentiment</th>\n",
       "    </tr>\n",
       "  </thead>\n",
       "  <tbody>\n",
       "    <tr>\n",
       "      <th>0</th>\n",
       "      <td>Sai kha ya her kisi kay bus ki bat nhi hai lak...</td>\n",
       "      <td>Positive</td>\n",
       "    </tr>\n",
       "    <tr>\n",
       "      <th>1</th>\n",
       "      <td>sahi bt h</td>\n",
       "      <td>Positive</td>\n",
       "    </tr>\n",
       "    <tr>\n",
       "      <th>2</th>\n",
       "      <td>Kya bt hai,</td>\n",
       "      <td>Positive</td>\n",
       "    </tr>\n",
       "    <tr>\n",
       "      <th>3</th>\n",
       "      <td>Wah je wah</td>\n",
       "      <td>Positive</td>\n",
       "    </tr>\n",
       "    <tr>\n",
       "      <th>4</th>\n",
       "      <td>Are wha kaya bat hai</td>\n",
       "      <td>Positive</td>\n",
       "    </tr>\n",
       "  </tbody>\n",
       "</table>\n",
       "</div>"
      ],
      "text/plain": [
       "                                           body_text sentiment\n",
       "0  Sai kha ya her kisi kay bus ki bat nhi hai lak...  Positive\n",
       "1                                          sahi bt h  Positive\n",
       "2                                        Kya bt hai,  Positive\n",
       "3                                         Wah je wah  Positive\n",
       "4                               Are wha kaya bat hai  Positive"
      ]
     },
     "execution_count": 20,
     "metadata": {},
     "output_type": "execute_result"
    }
   ],
   "source": [
    "data.head()"
   ]
  },
  {
   "cell_type": "code",
   "execution_count": 21,
   "metadata": {},
   "outputs": [
    {
     "data": {
      "text/plain": [
       "<AxesSubplot:>"
      ]
     },
     "execution_count": 21,
     "metadata": {},
     "output_type": "execute_result"
    },
    {
     "data": {
      "image/png": "[encoded data removed]",
      "text/plain": [
       "<Figure size 432x288 with 1 Axes>"
      ]
     },
     "metadata": {},
     "output_type": "display_data"
    }
   ],
   "source": [
    "data.sentiment.value_counts().plot(kind='bar')"
   ]
  },
  {
   "cell_type": "code",
   "execution_count": 22,
   "metadata": {},
   "outputs": [
    {
     "data": {
      "text/html": [
       "<div>\n",
       "<style scoped>\n",
       "    .dataframe tbody tr th:only-of-type {\n",
       "        vertical-align: middle;\n",
       "    }\n",
       "\n",
       "    .dataframe tbody tr th {\n",
       "        vertical-align: top;\n",
       "    }\n",
       "\n",
       "    .dataframe thead th {\n",
       "        text-align: right;\n",
       "    }\n",
       "</style>\n",
       "<table border=\"1\" class=\"dataframe\">\n",
       "  <thead>\n",
       "    <tr style=\"text-align: right;\">\n",
       "      <th></th>\n",
       "      <th>body_text</th>\n",
       "      <th>sentiment</th>\n",
       "    </tr>\n",
       "  </thead>\n",
       "  <tbody>\n",
       "    <tr>\n",
       "      <th>count</th>\n",
       "      <td>11300</td>\n",
       "      <td>11300</td>\n",
       "    </tr>\n",
       "    <tr>\n",
       "      <th>unique</th>\n",
       "      <td>11098</td>\n",
       "      <td>2</td>\n",
       "    </tr>\n",
       "    <tr>\n",
       "      <th>top</th>\n",
       "      <td>Good</td>\n",
       "      <td>Positive</td>\n",
       "    </tr>\n",
       "    <tr>\n",
       "      <th>freq</th>\n",
       "      <td>23</td>\n",
       "      <td>6013</td>\n",
       "    </tr>\n",
       "  </tbody>\n",
       "</table>\n",
       "</div>"
      ],
      "text/plain": [
       "       body_text sentiment\n",
       "count      11300     11300\n",
       "unique     11098         2\n",
       "top         Good  Positive\n",
       "freq          23      6013"
      ]
     },
     "execution_count": 22,
     "metadata": {},
     "output_type": "execute_result"
    }
   ],
   "source": [
    "data.describe()"
   ]
  },
  {
   "cell_type": "markdown",
   "metadata": {},
   "source": [
    "### **Data Cleaning**\n",
    "\n",
    "* Make all words lowercase\n",
    "* Replace any stopwords\n",
    "\n",
    "**Frequently Used Words**\n",
    "\n",
    "It is important to check for frequency of words. This helps to identify any missing stopwods or its variation in spelling. Stopwords are then updated if required. \n",
    "\n",
    "* First we will create a long list containing all words in the text provided. \n",
    "* Unique words are then counted and words with significant number of occurances are reported. \n",
    "* Stopwords list is updated.\n",
    "* Remaining high frequency words are then visually inspected using wordcloud by each sentiment.\n",
    "\n",
    "From words in worldcloud of each sentiment, it can be noted that there is some overlapp of words between three classes. Though most of the words are different and correct. "
   ]
  },
  {
   "cell_type": "code",
   "execution_count": 23,
   "metadata": {},
   "outputs": [
    {
     "name": "stdout",
     "output_type": "stream",
     "text": [
      "There are total 932615 words in text provided.\n"
     ]
    }
   ],
   "source": [
    "text_wordcloud = \" \".join(word.lower() for word in data.body_text)\n",
    "print ('There are total {} words in text provided.'.format(len(text_wordcloud)))"
   ]
  },
  {
   "cell_type": "code",
   "execution_count": 24,
   "metadata": {},
   "outputs": [
    {
     "name": "stdout",
     "output_type": "stream",
     "text": [
      "Frequency of word, ya : 335\n",
      "Frequency of word, kisi : 236\n",
      "Frequency of word, kay : 479\n",
      "Frequency of word, ki : 4030\n",
      "Frequency of word, bat : 141\n",
      "Frequency of word, nhi : 243\n",
      "Frequency of word, hai : 2274\n",
      "Frequency of word, main : 606\n",
      "Frequency of word, aur : 2236\n",
      "Frequency of word, sirf : 205\n",
      "Frequency of word, say : 274\n",
      "Frequency of word, h : 339\n",
      "Frequency of word, kya : 169\n",
      "Frequency of word, hai, : 172\n",
      "Frequency of word, baat : 228\n",
      "Frequency of word, allah : 894\n",
      "Frequency of word, sab : 285\n",
      "Frequency of word, pe : 167\n",
      "Frequency of word, or : 766\n",
      "Frequency of word, ko : 2543\n",
      "Frequency of word, de : 168\n",
      "Frequency of word, ameen : 249\n",
      "Frequency of word, ka : 2446\n",
      "Frequency of word, naam : 121\n",
      "Frequency of word, wo : 676\n",
      "Frequency of word, he : 564\n",
      "Frequency of word, bari : 117\n",
      "Frequency of word, mere : 146\n",
      "Frequency of word, tu : 298\n",
      "Frequency of word, hy : 449\n",
      "Frequency of word, is : 1128\n",
      "Frequency of word, mulk : 137\n",
      "Frequency of word, k : 2004\n",
      "Frequency of word, pr : 176\n",
      "Frequency of word, pakistani : 113\n",
      "Frequency of word, ye : 762\n",
      "Frequency of word, se : 2177\n",
      "Frequency of word, hum : 261\n",
      "Frequency of word, hi : 621\n",
      "Frequency of word, pakistan : 443\n",
      "Frequency of word, key : 146\n",
      "Frequency of word, kia : 319\n",
      "Frequency of word, ha : 580\n",
      "Frequency of word, i : 141\n",
      "Frequency of word, to : 1127\n",
      "Frequency of word, e : 648\n",
      "Frequency of word, gi : 101\n",
      "Frequency of word, me : 704\n",
      "Frequency of word, koi : 476\n",
      "Frequency of word, hua : 159\n",
      "Frequency of word, ni : 231\n",
      "Frequency of word, hota : 191\n",
      "Frequency of word, jo : 602\n",
      "Frequency of word, ga : 263\n",
      "Frequency of word, phir : 183\n",
      "Frequency of word, kaha : 125\n",
      "Frequency of word, jis : 289\n",
      "Frequency of word, yeh : 467\n",
      "Frequency of word, bad : 317\n",
      "Frequency of word, hain : 855\n",
      "Frequency of word, nahi : 745\n",
      "Frequency of word, bohat : 348\n",
      "Frequency of word, dil : 177\n",
      "Frequency of word, khud : 175\n",
      "Frequency of word, ho : 1132\n",
      "Frequency of word, bhi : 1187\n",
      "Frequency of word, . : 140\n",
      "Frequency of word, wala : 118\n",
      "Frequency of word, log : 176\n",
      "Frequency of word, ma : 165\n",
      "Frequency of word, kar : 858\n",
      "Frequency of word, in : 637\n",
      "Frequency of word, a : 143\n",
      "Frequency of word, and : 145\n",
      "Frequency of word, they : 102\n",
      "Frequency of word, the : 326\n",
      "Frequency of word, of : 108\n",
      "Frequency of word, un : 443\n",
      "Frequency of word, mein : 2691\n",
      "Frequency of word, kiya : 454\n",
      "Frequency of word, jata : 143\n",
      "Frequency of word, hone : 153\n",
      "Frequency of word, ke : 3541\n",
      "Frequency of word, tak : 323\n",
      "Frequency of word, film : 186\n",
      "Frequency of word, lekin : 275\n",
      "Frequency of word, zindagi : 130\n",
      "Frequency of word, inho : 141\n",
      "Frequency of word, ne : 1380\n",
      "Frequency of word, diya : 185\n",
      "Frequency of word, jab : 260\n",
      "Frequency of word, karne : 189\n",
      "Frequency of word, sath : 390\n",
      "Frequency of word, na : 723\n",
      "Frequency of word, par : 818\n",
      "Frequency of word, hui : 104\n",
      "Frequency of word, aik : 678\n",
      "Frequency of word, gai : 207\n",
      "Frequency of word, har : 160\n",
      "Frequency of word, taraf : 119\n",
      "Frequency of word, laga : 103\n",
      "Frequency of word, us : 335\n",
      "Frequency of word, hue : 114\n",
      "Frequency of word, raha : 250\n",
      "Frequency of word, tha : 639\n",
      "Frequency of word, liye : 427\n",
      "Frequency of word, wale : 143\n",
      "Frequency of word, karte : 112\n",
      "Frequency of word, logon : 116\n",
      "Frequency of word, inhe : 101\n",
      "Frequency of word, hoti : 130\n",
      "Frequency of word, apni : 376\n",
      "Frequency of word, 1 : 149\n",
      "Frequency of word, liya : 107\n",
      "Frequency of word, aaj : 107\n",
      "Frequency of word, tarah : 103\n",
      "Frequency of word, di : 187\n",
      "Frequency of word, o : 211\n",
      "Frequency of word, ab : 279\n",
      "Frequency of word, hasil : 199\n",
      "Frequency of word, karachi : 109\n",
      "Frequency of word, nazar : 104\n",
      "Frequency of word, drama : 119\n",
      "Frequency of word, waqt : 103\n",
      "Frequency of word, apna : 126\n",
      "Frequency of word, do : 151\n",
      "Frequency of word, ghar : 120\n",
      "Frequency of word, saal : 140\n",
      "Frequency of word, apne : 281\n",
      "Frequency of word, gaya : 300\n",
      "Frequency of word, rahi : 171\n",
      "Frequency of word, din : 162\n",
      "Frequency of word, ja : 135\n",
      "Frequency of word, kaam : 209\n",
      "Frequency of word, ap : 507\n",
      "Frequency of word, acha : 331\n",
      "Frequency of word, b : 554\n",
      "Frequency of word, meri : 209\n",
      "Frequency of word, app : 103\n",
      "Frequency of word, achi : 255\n",
      "Frequency of word, bilkul : 132\n",
      "Frequency of word, kuch : 294\n",
      "Frequency of word, hn : 122\n",
      "Frequency of word, aap : 327\n",
      "Frequency of word, imran : 143\n",
      "Frequency of word, khan : 427\n",
      "Frequency of word, per : 300\n",
      "Frequency of word, aa : 109\n",
      "Frequency of word, tum : 171\n",
      "Frequency of word, ky : 116\n",
      "Frequency of word, nawaz : 130\n",
      "Frequency of word, wali : 154\n",
      "Frequency of word, g : 130\n",
      "Frequency of word, tou : 189\n",
      "Frequency of word, kr : 379\n",
      "Frequency of word, mai : 184\n",
      "Frequency of word, karna : 118\n",
      "Frequency of word, ny : 142\n",
      "Frequency of word, ek : 124\n",
      "Frequency of word, hai. : 232\n",
      "Frequency of word, m : 129\n",
      "Frequency of word, bhai : 212\n",
      "Frequency of word, nay : 203\n",
      "Frequency of word, kam : 199\n",
      "Frequency of word, pak : 246\n",
      "Frequency of word, sb : 125\n",
      "Frequency of word, sy : 276\n",
      "Frequency of word, nai : 231\n",
      "Frequency of word, mera : 147\n",
      "Frequency of word, woh : 171\n",
      "Frequency of word, bht : 255\n",
      "Frequency of word, leye : 150\n",
      "Frequency of word, aunty : 130\n",
      "Frequency of word, dy : 104\n",
      "Frequency of word, mujhe : 151\n",
      "Frequency of word, chor : 102\n",
      "Frequency of word, sey : 111\n",
      "Frequency of word, hay : 132\n",
      "Frequency of word, iss : 220\n",
      "Frequency of word, dua : 228\n",
      "Frequency of word, agar : 147\n",
      "Frequency of word, eid : 107\n",
      "Frequency of word, 2 : 157\n",
      "Frequency of word, gaye : 161\n",
      "Frequency of word, ali : 148\n",
      "Frequency of word, thi : 322\n",
      "Frequency of word, ata : 142\n",
      "Frequency of word, police : 105\n",
      "Frequency of word, ker : 182\n",
      "Frequency of word, unhon : 135\n",
      "Frequency of word, duniya : 103\n",
      "Frequency of word, rahe : 183\n",
      "Frequency of word, hain. : 107\n",
      "Frequency of word, shadi : 109\n",
      "Frequency of word, team : 125\n",
      "Frequency of word, quality : 116\n",
      "Frequency of word, good : 165\n",
      "Frequency of word, lanat : 129\n"
     ]
    }
   ],
   "source": [
    "def freq(str): \n",
    "  \n",
    "    # Break the string into list of words  \n",
    "    str = str.split()          \n",
    "    str2 = [] \n",
    "  \n",
    "    # Loop till string values present in list str \n",
    "    for i in str:              \n",
    "  \n",
    "        # Checking for the duplicacy \n",
    "        if i not in str2: \n",
    "  \n",
    "            # Append value in str2 \n",
    "            str2.append(i)  \n",
    "              \n",
    "    for i in range(0, len(str2)): \n",
    "        if(str.count(str2[i])>100): \n",
    "            print('Frequency of word,', str2[i],':', str.count(str2[i]))\n",
    "            \n",
    "freq(text_wordcloud)"
   ]
  },
  {
   "cell_type": "code",
   "execution_count": 25,
   "metadata": {},
   "outputs": [
    {
     "name": "stdout",
     "output_type": "stream",
     "text": [
      "['nahi', 'nhi', 'nh', 'ney', 'nai', 'nay', 'chi', 'ni', 'na', 'k', 'ye', 'to', 'hai', 'i', 'kisi', 'sy', 'hain', 'or', 'tak', 'ek', 'aik', 'kiya', 'liya', 'diya', 'dete', 'unhon', 'unhen', 'sey', 'kiye', 'mujhe', 'mjhe', 'bana', 'hue', 'aur', 'wo', 'u', 'aa', 'woh', 'ai', 'aisa', 'waisa', 'mera', 'mere', 'mery', 'meri', 'muzhe', 'mai', 'hum', 'khud', 'acha', 'per', 'har', 'tag', 'bat', 'baat', 'pr', 'he', 'hamara', 'jahan', 'tumhara', 'tm', 'apka', 'apke', 'walon', 'lekin', 'lakin', 'kitna', 'ke', 'hota', 'hon', 'kab', 'kb', 'kabhi', 'sirf', 'hoti', 'hote', 'magar', 'app', 'agar', 'agr', 'pta', 'jab', 'inhe', 'inho', 'o', 'in', 'sath', 'esa', 'kaha', 'key', 'kahan', 'jis', 'kia', 'ayi', 'hy', 'main', 'mein', 'me', 'hein', 'hn', 'ki', 'tha', 'ta', 'koi', 'ko', 'woh ', 'bhi', 'py', 'yeh', 'raha', 'rha', 'hota', 'ho', 'ga', 'g', 'ka', 'leye', 'lye', 'kr', 'kar', 'kry', 'ker', 'lye', 'liye', 'liya', 'hotay', 'waisay', 'gya', 'gaya', 'gae', 'kch', 'kuch', 'ab', 'q', 'in', 'a', 'and', 'they', 'thy', 'thay', 'houn', 'hain', 'bad', 'baad', 'hai', 'ha', 'sakta', 'han', 'hn', 'hon', 'hoga', 'jin', 'thein', 'hoi', 'to', 'toh', 'so', 'is', 'isi', 'iss', 'rahe', 'hi', 'h', 'jo', 'a', 'kya', 'kyun', 'thi', 'se', 'pe', 'phr', 'phir', 'wala', 'waly', 'wale', 'wali', 'waisay', 'us', 'ny', 'hun', 'hu', 'rha', 'raha', 'ja', 'rahay', 'abi', 'uski', 'use', 'unke', 'unki', 'kon', 'un', 'ne', 'ul', 'haan', 'kafi', 'gai', 'rhy', 'kuch', 'jata', 'ata', 'aye', 'ya', 'dono', 'dy', 'do', 'hoa', 'aese', 'de', 'wohi', 'jati', 'jb', 'krta', 'karta', 'karne', 'karte', 'karti', 'lg', 'lag', 'rahi', 'raha', 'hui', 'hua', 'karna', 'krna', 'gi', 'ge', 'ji', 'hova', 'yehi', 'liya', 'jana', 'di', 'jye', 'chal', 'be', 'mil', 'tu', 'tum', 'aap', 'ap', 'e', 'apne', 'apko', 'apki', 'apny', 'apnay', 'apna', 'apni', 'hum', 'hm', 'par', 'hay', 'kis', 'the', 'sb', 'b', 'kr', 'boht', 'gy', 'tori', 'dain', 'krny', 'tou', 'tu', 'tera', 'teri', 'kay', 'ye', 'iss', 'mien', 'karo', 'kare', 'kro', 'kiya', 'kiye', 'kar', 'ker', 'karta', 'ke', 'ik', 'ky', 'k', 'e', 'ye', 'firse', 'phirse', 'sub', 'sab', 'usme']\n"
     ]
    }
   ],
   "source": [
    "UrduStopWordList = [line.rstrip('\\n') for line in open('D:\\SentimentAnalysis_RomanUrdu_data-master\\stopwords.txt')]\n",
    "\n",
    "print (UrduStopWordList)"
   ]
  },
  {
   "cell_type": "markdown",
   "metadata": {},
   "source": [
    "## **Feature Engineering**\n",
    "\n",
    "In this step following new features are introduced.\n",
    "\n",
    "\n",
    "* TFIDF vectorization used to create vector of words\n",
    "\n"
   ]
  },
  {
   "cell_type": "code",
   "execution_count": 31,
   "metadata": {},
   "outputs": [
    {
     "data": {
      "text/html": [
       "<div>\n",
       "<style scoped>\n",
       "    .dataframe tbody tr th:only-of-type {\n",
       "        vertical-align: middle;\n",
       "    }\n",
       "\n",
       "    .dataframe tbody tr th {\n",
       "        vertical-align: top;\n",
       "    }\n",
       "\n",
       "    .dataframe thead th {\n",
       "        text-align: right;\n",
       "    }\n",
       "</style>\n",
       "<table border=\"1\" class=\"dataframe\">\n",
       "  <thead>\n",
       "    <tr style=\"text-align: right;\">\n",
       "      <th></th>\n",
       "      <th>body_text</th>\n",
       "      <th>sentiment</th>\n",
       "      <th>body_len</th>\n",
       "      <th>punct_count</th>\n",
       "    </tr>\n",
       "  </thead>\n",
       "  <tbody>\n",
       "    <tr>\n",
       "      <th>0</th>\n",
       "      <td>Sai kha ya her kisi kay bus ki bat nhi hai lak...</td>\n",
       "      <td>Positive</td>\n",
       "      <td>73</td>\n",
       "      <td>0</td>\n",
       "    </tr>\n",
       "    <tr>\n",
       "      <th>1</th>\n",
       "      <td>sahi bt h</td>\n",
       "      <td>Positive</td>\n",
       "      <td>7</td>\n",
       "      <td>0</td>\n",
       "    </tr>\n",
       "    <tr>\n",
       "      <th>2</th>\n",
       "      <td>Kya bt hai,</td>\n",
       "      <td>Positive</td>\n",
       "      <td>9</td>\n",
       "      <td>1</td>\n",
       "    </tr>\n",
       "    <tr>\n",
       "      <th>3</th>\n",
       "      <td>Wah je wah</td>\n",
       "      <td>Positive</td>\n",
       "      <td>8</td>\n",
       "      <td>0</td>\n",
       "    </tr>\n",
       "    <tr>\n",
       "      <th>4</th>\n",
       "      <td>Are wha kaya bat hai</td>\n",
       "      <td>Positive</td>\n",
       "      <td>16</td>\n",
       "      <td>0</td>\n",
       "    </tr>\n",
       "  </tbody>\n",
       "</table>\n",
       "</div>"
      ],
      "text/plain": [
       "                                           body_text sentiment  body_len  \\\n",
       "0  Sai kha ya her kisi kay bus ki bat nhi hai lak...  Positive        73   \n",
       "1                                          sahi bt h  Positive         7   \n",
       "2                                        Kya bt hai,  Positive         9   \n",
       "3                                         Wah je wah  Positive         8   \n",
       "4                               Are wha kaya bat hai  Positive        16   \n",
       "\n",
       "   punct_count  \n",
       "0            0  \n",
       "1            0  \n",
       "2            1  \n",
       "3            0  \n",
       "4            0  "
      ]
     },
     "execution_count": 31,
     "metadata": {},
     "output_type": "execute_result"
    }
   ],
   "source": [
    "data['body_len'] = data['body_text'].apply(lambda x: len(x) - x.count(\" \"))\n",
    "\n",
    "punct = string.punctuation\n",
    "\n",
    "def count_punct(text):\n",
    "    count = sum([1 for char in text if char in punct])\n",
    "    return count\n",
    "\n",
    "data['punct_count'] = data['body_text'].apply(lambda x: count_punct(x))\n",
    "\n",
    "data.head()"
   ]
  },
  {
   "cell_type": "code",
   "execution_count": 40,
   "metadata": {},
   "outputs": [],
   "source": [
    "from sklearn.model_selection import train_test_split\n",
    "\n",
    "\n",
    "X_train, X_test, y_train, y_test = train_test_split(data[['body_text', 'body_len', 'punct_count','emoji_count']],\\\n",
    "                                                    data['sentiment'], test_size=0.2,random_state=42,\\\n",
    "                                                    stratify=data['sentiment'])"
   ]
  },
  {
   "cell_type": "code",
   "execution_count": 41,
   "metadata": {},
   "outputs": [
    {
     "data": {
      "text/plain": [
       "count         9040\n",
       "unique           2\n",
       "top       Positive\n",
       "freq          4810\n",
       "Name: sentiment, dtype: object"
      ]
     },
     "execution_count": 41,
     "metadata": {},
     "output_type": "execute_result"
    }
   ],
   "source": [
    "y_train.describe()"
   ]
  },
  {
   "cell_type": "code",
   "execution_count": 42,
   "metadata": {},
   "outputs": [
    {
     "data": {
      "text/plain": [
       "0                                         [sai, kha, bus, hal, kal, bi, aj, aj, bi, aus, say, bus]\n",
       "1                                                                                       [sahi, bt]\n",
       "2                                                                                             [bt]\n",
       "3                                                                                   [wah, je, wah]\n",
       "4                                                                                      [wha, kaya]\n",
       "5                                                                                     [wah, likhi]\n",
       "6                                                                       [wha, itni, sari, khubiya]\n",
       "7                                                                                  [itni, khubiya]\n",
       "8                                                     [allah, rehm, farma, zalimo, hidayat, ameen]\n",
       "9    [please, everyone, allah, swt, naam, hamesha, bary, lawzo, likha, kary, zaat, say, bari, hey]\n",
       "Name: body_text, dtype: object"
      ]
     },
     "execution_count": 42,
     "metadata": {},
     "output_type": "execute_result"
    }
   ],
   "source": [
    "def clean_text(text):\n",
    "    #Change each character to lowercase and avoid any punctuation. Finally join word back. \n",
    "    text = \"\".join([char.lower() for char in text if char not in string.punctuation])\n",
    "    \n",
    "    # Use non word characters to split the sentence\n",
    "    tokens = re.split('\\W+', text)\n",
    "\n",
    "    # Remove the stop words - commonly used words such as I, we, you, am, is etc in Urdu language \n",
    "    # that do not contribute to sentiment. \n",
    "    text = [word for word in tokens if word not in stopwords_with_urdu]\n",
    "    return text\n",
    "\n",
    "data_clean = data['body_text'].apply(lambda x: clean_text(x))\n",
    "pd.set_option('max_colwidth', 800)\n",
    "data_clean.head(10)"
   ]
  },
  {
   "cell_type": "markdown",
   "metadata": {},
   "source": [
    "### Vectorize text\n",
    "\n",
    "Sentiment text classifier can not directly classify text. Machine learning models mainly expect text to be tranformed into a numerical form. \n",
    ". "
   ]
  },
  {
   "cell_type": "code",
   "execution_count": 43,
   "metadata": {},
   "outputs": [
    {
     "name": "stderr",
     "output_type": "stream",
     "text": [
      "c:\\Users\\PC\\anaconda3\\lib\\site-packages\\sklearn\\feature_extraction\\text.py:532: UserWarning: The parameter 'ngram_range' will not be used since 'analyzer' is callable'\n",
      "  warnings.warn(\n"
     ]
    }
   ],
   "source": [
    "# Function clean_text used to clean the sentiment data before vectorizing to remove stop words and punctuations. \n",
    "# min_df is the minimum numbers of documents a word must be present in to be kept.\n",
    "# norm is set to l2, to ensure all our feature vectors have a euclidian norm of 1 with norm='l2', but not set\n",
    "# ngram_range is set to (1, 2) to consider both unigrams and bigrams  \n",
    "\n",
    "tfidf_vect = TfidfVectorizer(analyzer=clean_text,ngram_range=(1, 2)) \n",
    "tfidf_vect_fit = tfidf_vect.fit(X_train['body_text'])\n",
    "\n",
    "tfidf_train = tfidf_vect_fit.transform(X_train['body_text'])\n",
    "tfidf_test = tfidf_vect_fit.transform(X_test['body_text'])"
   ]
  },
  {
   "cell_type": "code",
   "execution_count": 44,
   "metadata": {},
   "outputs": [
    {
     "data": {
      "text/html": [
       "<div>\n",
       "<style scoped>\n",
       "    .dataframe tbody tr th:only-of-type {\n",
       "        vertical-align: middle;\n",
       "    }\n",
       "\n",
       "    .dataframe tbody tr th {\n",
       "        vertical-align: top;\n",
       "    }\n",
       "\n",
       "    .dataframe thead th {\n",
       "        text-align: right;\n",
       "    }\n",
       "</style>\n",
       "<table border=\"1\" class=\"dataframe\">\n",
       "  <thead>\n",
       "    <tr style=\"text-align: right;\">\n",
       "      <th></th>\n",
       "      <th>body_len</th>\n",
       "      <th>punct_count</th>\n",
       "      <th>emoji_count</th>\n",
       "      <th>0</th>\n",
       "      <th>1</th>\n",
       "      <th>2</th>\n",
       "      <th>3</th>\n",
       "      <th>4</th>\n",
       "      <th>5</th>\n",
       "      <th>6</th>\n",
       "      <th>...</th>\n",
       "      <th>21905</th>\n",
       "      <th>21906</th>\n",
       "      <th>21907</th>\n",
       "      <th>21908</th>\n",
       "      <th>21909</th>\n",
       "      <th>21910</th>\n",
       "      <th>21911</th>\n",
       "      <th>21912</th>\n",
       "      <th>21913</th>\n",
       "      <th>21914</th>\n",
       "    </tr>\n",
       "  </thead>\n",
       "  <tbody>\n",
       "    <tr>\n",
       "      <th>0</th>\n",
       "      <td>44</td>\n",
       "      <td>0</td>\n",
       "      <td>0</td>\n",
       "      <td>0.123794</td>\n",
       "      <td>0.0</td>\n",
       "      <td>0.0</td>\n",
       "      <td>0.0</td>\n",
       "      <td>0.0</td>\n",
       "      <td>0.0</td>\n",
       "      <td>0.0</td>\n",
       "      <td>...</td>\n",
       "      <td>0.0</td>\n",
       "      <td>0.0</td>\n",
       "      <td>0.0</td>\n",
       "      <td>0.0</td>\n",
       "      <td>0.0</td>\n",
       "      <td>0.0</td>\n",
       "      <td>0.0</td>\n",
       "      <td>0.0</td>\n",
       "      <td>0.0</td>\n",
       "      <td>0.0</td>\n",
       "    </tr>\n",
       "    <tr>\n",
       "      <th>1</th>\n",
       "      <td>13</td>\n",
       "      <td>5</td>\n",
       "      <td>0</td>\n",
       "      <td>0.000000</td>\n",
       "      <td>0.0</td>\n",
       "      <td>0.0</td>\n",
       "      <td>0.0</td>\n",
       "      <td>0.0</td>\n",
       "      <td>0.0</td>\n",
       "      <td>0.0</td>\n",
       "      <td>...</td>\n",
       "      <td>0.0</td>\n",
       "      <td>0.0</td>\n",
       "      <td>0.0</td>\n",
       "      <td>0.0</td>\n",
       "      <td>0.0</td>\n",
       "      <td>0.0</td>\n",
       "      <td>0.0</td>\n",
       "      <td>0.0</td>\n",
       "      <td>0.0</td>\n",
       "      <td>0.0</td>\n",
       "    </tr>\n",
       "    <tr>\n",
       "      <th>2</th>\n",
       "      <td>28</td>\n",
       "      <td>1</td>\n",
       "      <td>0</td>\n",
       "      <td>0.000000</td>\n",
       "      <td>0.0</td>\n",
       "      <td>0.0</td>\n",
       "      <td>0.0</td>\n",
       "      <td>0.0</td>\n",
       "      <td>0.0</td>\n",
       "      <td>0.0</td>\n",
       "      <td>...</td>\n",
       "      <td>0.0</td>\n",
       "      <td>0.0</td>\n",
       "      <td>0.0</td>\n",
       "      <td>0.0</td>\n",
       "      <td>0.0</td>\n",
       "      <td>0.0</td>\n",
       "      <td>0.0</td>\n",
       "      <td>0.0</td>\n",
       "      <td>0.0</td>\n",
       "      <td>0.0</td>\n",
       "    </tr>\n",
       "    <tr>\n",
       "      <th>3</th>\n",
       "      <td>125</td>\n",
       "      <td>2</td>\n",
       "      <td>0</td>\n",
       "      <td>0.064612</td>\n",
       "      <td>0.0</td>\n",
       "      <td>0.0</td>\n",
       "      <td>0.0</td>\n",
       "      <td>0.0</td>\n",
       "      <td>0.0</td>\n",
       "      <td>0.0</td>\n",
       "      <td>...</td>\n",
       "      <td>0.0</td>\n",
       "      <td>0.0</td>\n",
       "      <td>0.0</td>\n",
       "      <td>0.0</td>\n",
       "      <td>0.0</td>\n",
       "      <td>0.0</td>\n",
       "      <td>0.0</td>\n",
       "      <td>0.0</td>\n",
       "      <td>0.0</td>\n",
       "      <td>0.0</td>\n",
       "    </tr>\n",
       "    <tr>\n",
       "      <th>4</th>\n",
       "      <td>76</td>\n",
       "      <td>0</td>\n",
       "      <td>0</td>\n",
       "      <td>0.000000</td>\n",
       "      <td>0.0</td>\n",
       "      <td>0.0</td>\n",
       "      <td>0.0</td>\n",
       "      <td>0.0</td>\n",
       "      <td>0.0</td>\n",
       "      <td>0.0</td>\n",
       "      <td>...</td>\n",
       "      <td>0.0</td>\n",
       "      <td>0.0</td>\n",
       "      <td>0.0</td>\n",
       "      <td>0.0</td>\n",
       "      <td>0.0</td>\n",
       "      <td>0.0</td>\n",
       "      <td>0.0</td>\n",
       "      <td>0.0</td>\n",
       "      <td>0.0</td>\n",
       "      <td>0.0</td>\n",
       "    </tr>\n",
       "  </tbody>\n",
       "</table>\n",
       "<p>5 rows × 21918 columns</p>\n",
       "</div>"
      ],
      "text/plain": [
       "   body_len  punct_count  emoji_count         0    1    2    3    4    5    6  \\\n",
       "0        44            0            0  0.123794  0.0  0.0  0.0  0.0  0.0  0.0   \n",
       "1        13            5            0  0.000000  0.0  0.0  0.0  0.0  0.0  0.0   \n",
       "2        28            1            0  0.000000  0.0  0.0  0.0  0.0  0.0  0.0   \n",
       "3       125            2            0  0.064612  0.0  0.0  0.0  0.0  0.0  0.0   \n",
       "4        76            0            0  0.000000  0.0  0.0  0.0  0.0  0.0  0.0   \n",
       "\n",
       "   ...  21905  21906  21907  21908  21909  21910  21911  21912  21913  21914  \n",
       "0  ...    0.0    0.0    0.0    0.0    0.0    0.0    0.0    0.0    0.0    0.0  \n",
       "1  ...    0.0    0.0    0.0    0.0    0.0    0.0    0.0    0.0    0.0    0.0  \n",
       "2  ...    0.0    0.0    0.0    0.0    0.0    0.0    0.0    0.0    0.0    0.0  \n",
       "3  ...    0.0    0.0    0.0    0.0    0.0    0.0    0.0    0.0    0.0    0.0  \n",
       "4  ...    0.0    0.0    0.0    0.0    0.0    0.0    0.0    0.0    0.0    0.0  \n",
       "\n",
       "[5 rows x 21918 columns]"
      ]
     },
     "execution_count": 44,
     "metadata": {},
     "output_type": "execute_result"
    }
   ],
   "source": [
    "X_train_vect = pd.concat([X_train[['body_len', 'punct_count','emoji_count']].reset_index(drop=True), \n",
    "           pd.DataFrame(tfidf_train.toarray())], axis=1)\n",
    "X_test_vect = pd.concat([X_test[['body_len', 'punct_count','emoji_count']].reset_index(drop=True), \n",
    "           pd.DataFrame(tfidf_test.toarray())], axis=1)\n",
    "\n",
    "X_train_vect.head()"
   ]
  },
  {
   "cell_type": "code",
   "execution_count": 45,
   "metadata": {},
   "outputs": [
    {
     "data": {
      "text/plain": [
       "(9040, 21918)"
      ]
     },
     "execution_count": 45,
     "metadata": {},
     "output_type": "execute_result"
    }
   ],
   "source": [
    "X_train_vect.shape"
   ]
  },
  {
   "cell_type": "markdown",
   "metadata": {},
   "source": [
    "### Building Machine Learning Models"
   ]
  },
  {
   "cell_type": "code",
   "execution_count": 47,
   "metadata": {},
   "outputs": [],
   "source": [
    "from sklearn.ensemble import RandomForestClassifier, GradientBoostingClassifier\n",
    "from sklearn.metrics import precision_recall_fscore_support as score, roc_auc_score\n",
    "from sklearn.metrics import confusion_matrix,classification_report,accuracy_score\n",
    "from mlxtend.plotting import plot_confusion_matrix\n",
    "\n",
    "import time"
   ]
  },
  {
   "cell_type": "code",
   "execution_count": 48,
   "metadata": {},
   "outputs": [
    {
     "name": "stderr",
     "output_type": "stream",
     "text": [
      "c:\\Users\\PC\\anaconda3\\lib\\site-packages\\sklearn\\utils\\validation.py:1688: FutureWarning: Feature names only support names that are all strings. Got feature names with dtypes: ['int', 'str']. An error will be raised in 1.2.\n",
      "  warnings.warn(\n",
      "c:\\Users\\PC\\anaconda3\\lib\\site-packages\\sklearn\\utils\\validation.py:1688: FutureWarning: Feature names only support names that are all strings. Got feature names with dtypes: ['int', 'str']. An error will be raised in 1.2.\n",
      "  warnings.warn(\n"
     ]
    },
    {
     "name": "stdout",
     "output_type": "stream",
     "text": [
      "Est: 10, Depth: 10, Precision: 0.671 / Recall: 0.602 / F1 score 0.543/ Accuracy: 0.581\n"
     ]
    },
    {
     "name": "stderr",
     "output_type": "stream",
     "text": [
      "c:\\Users\\PC\\anaconda3\\lib\\site-packages\\sklearn\\utils\\validation.py:1688: FutureWarning: Feature names only support names that are all strings. Got feature names with dtypes: ['int', 'str']. An error will be raised in 1.2.\n",
      "  warnings.warn(\n",
      "c:\\Users\\PC\\anaconda3\\lib\\site-packages\\sklearn\\utils\\validation.py:1688: FutureWarning: Feature names only support names that are all strings. Got feature names with dtypes: ['int', 'str']. An error will be raised in 1.2.\n",
      "  warnings.warn(\n"
     ]
    },
    {
     "name": "stdout",
     "output_type": "stream",
     "text": [
      "Est: 10, Depth: 20, Precision: 0.678 / Recall: 0.649 / F1 score 0.625/ Accuracy: 0.636\n"
     ]
    },
    {
     "name": "stderr",
     "output_type": "stream",
     "text": [
      "c:\\Users\\PC\\anaconda3\\lib\\site-packages\\sklearn\\utils\\validation.py:1688: FutureWarning: Feature names only support names that are all strings. Got feature names with dtypes: ['int', 'str']. An error will be raised in 1.2.\n",
      "  warnings.warn(\n",
      "c:\\Users\\PC\\anaconda3\\lib\\site-packages\\sklearn\\utils\\validation.py:1688: FutureWarning: Feature names only support names that are all strings. Got feature names with dtypes: ['int', 'str']. An error will be raised in 1.2.\n",
      "  warnings.warn(\n"
     ]
    },
    {
     "name": "stdout",
     "output_type": "stream",
     "text": [
      "Est: 10, Depth: 30, Precision: 0.666 / Recall: 0.662 / F1 score 0.656/ Accuracy: 0.657\n"
     ]
    },
    {
     "name": "stderr",
     "output_type": "stream",
     "text": [
      "c:\\Users\\PC\\anaconda3\\lib\\site-packages\\sklearn\\utils\\validation.py:1688: FutureWarning: Feature names only support names that are all strings. Got feature names with dtypes: ['int', 'str']. An error will be raised in 1.2.\n",
      "  warnings.warn(\n",
      "c:\\Users\\PC\\anaconda3\\lib\\site-packages\\sklearn\\utils\\validation.py:1688: FutureWarning: Feature names only support names that are all strings. Got feature names with dtypes: ['int', 'str']. An error will be raised in 1.2.\n",
      "  warnings.warn(\n"
     ]
    },
    {
     "name": "stdout",
     "output_type": "stream",
     "text": [
      "Est: 10, Depth: 50, Precision: 0.682 / Recall: 0.679 / F1 score 0.674/ Accuracy: 0.674\n"
     ]
    },
    {
     "name": "stderr",
     "output_type": "stream",
     "text": [
      "c:\\Users\\PC\\anaconda3\\lib\\site-packages\\sklearn\\utils\\validation.py:1688: FutureWarning: Feature names only support names that are all strings. Got feature names with dtypes: ['int', 'str']. An error will be raised in 1.2.\n",
      "  warnings.warn(\n",
      "c:\\Users\\PC\\anaconda3\\lib\\site-packages\\sklearn\\utils\\validation.py:1688: FutureWarning: Feature names only support names that are all strings. Got feature names with dtypes: ['int', 'str']. An error will be raised in 1.2.\n",
      "  warnings.warn(\n"
     ]
    },
    {
     "name": "stdout",
     "output_type": "stream",
     "text": [
      "Est: 10, Depth: None, Precision: 0.721 / Recall: 0.717 / F1 score 0.71/ Accuracy: 0.711\n"
     ]
    },
    {
     "name": "stderr",
     "output_type": "stream",
     "text": [
      "c:\\Users\\PC\\anaconda3\\lib\\site-packages\\sklearn\\utils\\validation.py:1688: FutureWarning: Feature names only support names that are all strings. Got feature names with dtypes: ['int', 'str']. An error will be raised in 1.2.\n",
      "  warnings.warn(\n",
      "c:\\Users\\PC\\anaconda3\\lib\\site-packages\\sklearn\\utils\\validation.py:1688: FutureWarning: Feature names only support names that are all strings. Got feature names with dtypes: ['int', 'str']. An error will be raised in 1.2.\n",
      "  warnings.warn(\n"
     ]
    },
    {
     "name": "stdout",
     "output_type": "stream",
     "text": [
      "Est: 50, Depth: 10, Precision: 0.715 / Recall: 0.704 / F1 score 0.693/ Accuracy: 0.695\n"
     ]
    },
    {
     "name": "stderr",
     "output_type": "stream",
     "text": [
      "c:\\Users\\PC\\anaconda3\\lib\\site-packages\\sklearn\\utils\\validation.py:1688: FutureWarning: Feature names only support names that are all strings. Got feature names with dtypes: ['int', 'str']. An error will be raised in 1.2.\n",
      "  warnings.warn(\n",
      "c:\\Users\\PC\\anaconda3\\lib\\site-packages\\sklearn\\utils\\validation.py:1688: FutureWarning: Feature names only support names that are all strings. Got feature names with dtypes: ['int', 'str']. An error will be raised in 1.2.\n",
      "  warnings.warn(\n"
     ]
    },
    {
     "name": "stdout",
     "output_type": "stream",
     "text": [
      "Est: 50, Depth: 20, Precision: 0.72 / Recall: 0.709 / F1 score 0.698/ Accuracy: 0.7\n"
     ]
    },
    {
     "name": "stderr",
     "output_type": "stream",
     "text": [
      "c:\\Users\\PC\\anaconda3\\lib\\site-packages\\sklearn\\utils\\validation.py:1688: FutureWarning: Feature names only support names that are all strings. Got feature names with dtypes: ['int', 'str']. An error will be raised in 1.2.\n",
      "  warnings.warn(\n",
      "c:\\Users\\PC\\anaconda3\\lib\\site-packages\\sklearn\\utils\\validation.py:1688: FutureWarning: Feature names only support names that are all strings. Got feature names with dtypes: ['int', 'str']. An error will be raised in 1.2.\n",
      "  warnings.warn(\n"
     ]
    },
    {
     "name": "stdout",
     "output_type": "stream",
     "text": [
      "Est: 50, Depth: 30, Precision: 0.731 / Recall: 0.721 / F1 score 0.711/ Accuracy: 0.713\n"
     ]
    },
    {
     "name": "stderr",
     "output_type": "stream",
     "text": [
      "c:\\Users\\PC\\anaconda3\\lib\\site-packages\\sklearn\\utils\\validation.py:1688: FutureWarning: Feature names only support names that are all strings. Got feature names with dtypes: ['int', 'str']. An error will be raised in 1.2.\n",
      "  warnings.warn(\n",
      "c:\\Users\\PC\\anaconda3\\lib\\site-packages\\sklearn\\utils\\validation.py:1688: FutureWarning: Feature names only support names that are all strings. Got feature names with dtypes: ['int', 'str']. An error will be raised in 1.2.\n",
      "  warnings.warn(\n"
     ]
    },
    {
     "name": "stdout",
     "output_type": "stream",
     "text": [
      "Est: 50, Depth: 50, Precision: 0.733 / Recall: 0.723 / F1 score 0.713/ Accuracy: 0.715\n"
     ]
    },
    {
     "name": "stderr",
     "output_type": "stream",
     "text": [
      "c:\\Users\\PC\\anaconda3\\lib\\site-packages\\sklearn\\utils\\validation.py:1688: FutureWarning: Feature names only support names that are all strings. Got feature names with dtypes: ['int', 'str']. An error will be raised in 1.2.\n",
      "  warnings.warn(\n",
      "c:\\Users\\PC\\anaconda3\\lib\\site-packages\\sklearn\\utils\\validation.py:1688: FutureWarning: Feature names only support names that are all strings. Got feature names with dtypes: ['int', 'str']. An error will be raised in 1.2.\n",
      "  warnings.warn(\n"
     ]
    },
    {
     "name": "stdout",
     "output_type": "stream",
     "text": [
      "Est: 50, Depth: None, Precision: 0.744 / Recall: 0.741 / F1 score 0.736/ Accuracy: 0.736\n"
     ]
    },
    {
     "name": "stderr",
     "output_type": "stream",
     "text": [
      "c:\\Users\\PC\\anaconda3\\lib\\site-packages\\sklearn\\utils\\validation.py:1688: FutureWarning: Feature names only support names that are all strings. Got feature names with dtypes: ['int', 'str']. An error will be raised in 1.2.\n",
      "  warnings.warn(\n",
      "c:\\Users\\PC\\anaconda3\\lib\\site-packages\\sklearn\\utils\\validation.py:1688: FutureWarning: Feature names only support names that are all strings. Got feature names with dtypes: ['int', 'str']. An error will be raised in 1.2.\n",
      "  warnings.warn(\n"
     ]
    },
    {
     "name": "stdout",
     "output_type": "stream",
     "text": [
      "Est: 150, Depth: 10, Precision: 0.708 / Recall: 0.7 / F1 score 0.691/ Accuracy: 0.692\n"
     ]
    },
    {
     "name": "stderr",
     "output_type": "stream",
     "text": [
      "c:\\Users\\PC\\anaconda3\\lib\\site-packages\\sklearn\\utils\\validation.py:1688: FutureWarning: Feature names only support names that are all strings. Got feature names with dtypes: ['int', 'str']. An error will be raised in 1.2.\n",
      "  warnings.warn(\n",
      "c:\\Users\\PC\\anaconda3\\lib\\site-packages\\sklearn\\utils\\validation.py:1688: FutureWarning: Feature names only support names that are all strings. Got feature names with dtypes: ['int', 'str']. An error will be raised in 1.2.\n",
      "  warnings.warn(\n"
     ]
    },
    {
     "name": "stdout",
     "output_type": "stream",
     "text": [
      "Est: 150, Depth: 20, Precision: 0.73 / Recall: 0.722 / F1 score 0.713/ Accuracy: 0.714\n"
     ]
    },
    {
     "name": "stderr",
     "output_type": "stream",
     "text": [
      "c:\\Users\\PC\\anaconda3\\lib\\site-packages\\sklearn\\utils\\validation.py:1688: FutureWarning: Feature names only support names that are all strings. Got feature names with dtypes: ['int', 'str']. An error will be raised in 1.2.\n",
      "  warnings.warn(\n",
      "c:\\Users\\PC\\anaconda3\\lib\\site-packages\\sklearn\\utils\\validation.py:1688: FutureWarning: Feature names only support names that are all strings. Got feature names with dtypes: ['int', 'str']. An error will be raised in 1.2.\n",
      "  warnings.warn(\n"
     ]
    },
    {
     "name": "stdout",
     "output_type": "stream",
     "text": [
      "Est: 150, Depth: 30, Precision: 0.729 / Recall: 0.722 / F1 score 0.714/ Accuracy: 0.715\n"
     ]
    },
    {
     "name": "stderr",
     "output_type": "stream",
     "text": [
      "c:\\Users\\PC\\anaconda3\\lib\\site-packages\\sklearn\\utils\\validation.py:1688: FutureWarning: Feature names only support names that are all strings. Got feature names with dtypes: ['int', 'str']. An error will be raised in 1.2.\n",
      "  warnings.warn(\n",
      "c:\\Users\\PC\\anaconda3\\lib\\site-packages\\sklearn\\utils\\validation.py:1688: FutureWarning: Feature names only support names that are all strings. Got feature names with dtypes: ['int', 'str']. An error will be raised in 1.2.\n",
      "  warnings.warn(\n"
     ]
    },
    {
     "name": "stdout",
     "output_type": "stream",
     "text": [
      "Est: 150, Depth: 50, Precision: 0.739 / Recall: 0.731 / F1 score 0.723/ Accuracy: 0.724\n"
     ]
    },
    {
     "name": "stderr",
     "output_type": "stream",
     "text": [
      "c:\\Users\\PC\\anaconda3\\lib\\site-packages\\sklearn\\utils\\validation.py:1688: FutureWarning: Feature names only support names that are all strings. Got feature names with dtypes: ['int', 'str']. An error will be raised in 1.2.\n",
      "  warnings.warn(\n",
      "c:\\Users\\PC\\anaconda3\\lib\\site-packages\\sklearn\\utils\\validation.py:1688: FutureWarning: Feature names only support names that are all strings. Got feature names with dtypes: ['int', 'str']. An error will be raised in 1.2.\n",
      "  warnings.warn(\n"
     ]
    },
    {
     "name": "stdout",
     "output_type": "stream",
     "text": [
      "Est: 150, Depth: None, Precision: 0.744 / Recall: 0.743 / F1 score 0.738/ Accuracy: 0.738\n"
     ]
    },
    {
     "name": "stderr",
     "output_type": "stream",
     "text": [
      "c:\\Users\\PC\\anaconda3\\lib\\site-packages\\sklearn\\utils\\validation.py:1688: FutureWarning: Feature names only support names that are all strings. Got feature names with dtypes: ['int', 'str']. An error will be raised in 1.2.\n",
      "  warnings.warn(\n",
      "c:\\Users\\PC\\anaconda3\\lib\\site-packages\\sklearn\\utils\\validation.py:1688: FutureWarning: Feature names only support names that are all strings. Got feature names with dtypes: ['int', 'str']. An error will be raised in 1.2.\n",
      "  warnings.warn(\n"
     ]
    },
    {
     "name": "stdout",
     "output_type": "stream",
     "text": [
      "Est: 250, Depth: 10, Precision: 0.735 / Recall: 0.722 / F1 score 0.712/ Accuracy: 0.714\n"
     ]
    },
    {
     "name": "stderr",
     "output_type": "stream",
     "text": [
      "c:\\Users\\PC\\anaconda3\\lib\\site-packages\\sklearn\\utils\\validation.py:1688: FutureWarning: Feature names only support names that are all strings. Got feature names with dtypes: ['int', 'str']. An error will be raised in 1.2.\n",
      "  warnings.warn(\n",
      "c:\\Users\\PC\\anaconda3\\lib\\site-packages\\sklearn\\utils\\validation.py:1688: FutureWarning: Feature names only support names that are all strings. Got feature names with dtypes: ['int', 'str']. An error will be raised in 1.2.\n",
      "  warnings.warn(\n"
     ]
    },
    {
     "name": "stdout",
     "output_type": "stream",
     "text": [
      "Est: 250, Depth: 20, Precision: 0.73 / Recall: 0.722 / F1 score 0.713/ Accuracy: 0.714\n"
     ]
    },
    {
     "name": "stderr",
     "output_type": "stream",
     "text": [
      "c:\\Users\\PC\\anaconda3\\lib\\site-packages\\sklearn\\utils\\validation.py:1688: FutureWarning: Feature names only support names that are all strings. Got feature names with dtypes: ['int', 'str']. An error will be raised in 1.2.\n",
      "  warnings.warn(\n",
      "c:\\Users\\PC\\anaconda3\\lib\\site-packages\\sklearn\\utils\\validation.py:1688: FutureWarning: Feature names only support names that are all strings. Got feature names with dtypes: ['int', 'str']. An error will be raised in 1.2.\n",
      "  warnings.warn(\n"
     ]
    },
    {
     "name": "stdout",
     "output_type": "stream",
     "text": [
      "Est: 250, Depth: 30, Precision: 0.74 / Recall: 0.73 / F1 score 0.721/ Accuracy: 0.723\n"
     ]
    },
    {
     "name": "stderr",
     "output_type": "stream",
     "text": [
      "c:\\Users\\PC\\anaconda3\\lib\\site-packages\\sklearn\\utils\\validation.py:1688: FutureWarning: Feature names only support names that are all strings. Got feature names with dtypes: ['int', 'str']. An error will be raised in 1.2.\n",
      "  warnings.warn(\n",
      "c:\\Users\\PC\\anaconda3\\lib\\site-packages\\sklearn\\utils\\validation.py:1688: FutureWarning: Feature names only support names that are all strings. Got feature names with dtypes: ['int', 'str']. An error will be raised in 1.2.\n",
      "  warnings.warn(\n"
     ]
    },
    {
     "name": "stdout",
     "output_type": "stream",
     "text": [
      "Est: 250, Depth: 50, Precision: 0.736 / Recall: 0.729 / F1 score 0.721/ Accuracy: 0.722\n"
     ]
    },
    {
     "name": "stderr",
     "output_type": "stream",
     "text": [
      "c:\\Users\\PC\\anaconda3\\lib\\site-packages\\sklearn\\utils\\validation.py:1688: FutureWarning: Feature names only support names that are all strings. Got feature names with dtypes: ['int', 'str']. An error will be raised in 1.2.\n",
      "  warnings.warn(\n"
     ]
    }
   ],
   "source": [
    "# Grid search on Random Forest Classifier\n",
    "def train_RF(n_est,depth):\n",
    "    rf = RandomForestClassifier(n_estimators=n_est, max_depth=depth, n_jobs=-1,class_weight=\"balanced\")\n",
    "    rf_model = rf.fit(X_train_vect, y_train)\n",
    "    y_pred = rf_model.predict(X_test_vect)\n",
    "    precision, recall, fscore, train_support = score(y_test, y_pred, labels='Positive', average='macro')\n",
    "    print('Est: {}, Depth: {}, Precision: {} / Recall: {} / F1 score {}/ Accuracy: {}'.format(n_est, depth,\\\n",
    "                                                            round(precision, 3), round(recall, 3), round(fscore, 3),\\\n",
    "                                                            round((y_pred==y_test).sum()/len(y_pred), 3)))    \n",
    "for n_est in [10,50,150,250]:\n",
    "    for depth in [10,20,30,50,None]:\n",
    "        train_RF(n_est,depth)"
   ]
  },
  {
   "cell_type": "code",
   "execution_count": null,
   "metadata": {},
   "outputs": [
    {
     "name": "stdout",
     "output_type": "stream",
     "text": [
      "Precision: 0.752 / Recall: 0.75 / F1 score: 0.745 /Accuracy: 0.746\n",
      "Accuracy of Random Forest Model is: 0.746\n"
     ]
    }
   ],
   "source": [
    "# n_jobs = -1 for building parallel 150 decision trees. \n",
    "# Max_depth = None means it will build decision tree until minminzation of loss\n",
    "rf = RandomForestClassifier(n_estimators=150, max_depth=None, n_jobs=-1,class_weight=\"balanced\",random_state=42)\n",
    "\n",
    "rf_model = rf.fit(X_train_vect, y_train)\n",
    "y_pred_rf = rf_model.predict(X_test_vect)\n",
    "\n",
    "acc = accuracy_score(y_test, y_pred_rf)\n",
    "precision, recall, fscore, train_support = score(y_test, y_pred_rf, labels='Positive', average='macro')\n",
    "\n",
    "\n",
    "print('Precision: {} / Recall: {} / F1 score: {} /Accuracy: {}'.format(round(precision, 3), round(recall, 3), round(fscore, 3),\\\n",
    "                                                                       round(acc,3)))    \n",
    "print ('Accuracy of Random Forest Model is: {}'.format(round(acc,3)))"
   ]
  },
  {
   "cell_type": "markdown",
   "metadata": {},
   "source": [
    "**Classification Accuracy**\n",
    "\n",
    "When classifying the comments by sentiments into three classes (Negative, Neutral, positive), it is important that negative comments are reported with higher accuracy. Precision and Recall allow us to check the performance of a classifier. \n",
    "\n",
    "*Precision*:\n",
    "* Precision checks out of all reported negative comments, how many are actually negative. So it checks for percentage of correct Negative Sentiments among all reported Negative sentiments\n",
    "* General definition of precision for a class is,\n",
    "    * Precision = TP/(TP+FP)\n",
    "* If we think of it for Negative sentiments class, \n",
    "    * Precision = True Negative Sentiments/(True Negative Sentiments + Falsely Reported Negative Sentiments)\n",
    "\n",
    "\n",
    "*Recall*:\n",
    "* Recall checks for missed positive prediction which are misclassified as false negative. \n",
    "* General definition of precision for a class is,\n",
    "    * Recall = TP/(TP+FN)\n",
    "* For Negative sentiments class it is, \n",
    "    * Recall = True Negative Sentiments/(True Negative Sentiments + Missed Negative Sentiments in Reported)\n",
    "\n",
    "When classification model improves, precision of reporting negative sentiments goes high. Other class sentiments, which are falsely reported Negative goes down. \n",
    "\n",
    "For satisfactory performance of model, it is desired to have both high precision and high recall to get a final high accuracy. F1 score considers both precision and recall and gives a single number to compare. We need to select parameters of the model for which F1 score is high for Negative class.  \n",
    "\n",
    "For overall accuracy of classifier, micro score is important. \n",
    "\n",
    "*How much accuracy is enough?*\n",
    "\n",
    "Generally precision of nearly 70% is considered as a good classifier performance. This due to the fact that subtle meaning of words is perceived differently[](https://mashable.com/2010/04/19/sentiment-analysis/) by humans and also can not be captured by machine learning models. \n",
    "\n",
    "As per this Wikipedia [source](https://en.wikipedia.org/wiki/Sentiment_analysis): \n",
    "> The accuracy of a sentiment analysis system is, in principle, how well it agrees with human judgments. This is usually measured by variant measures based on precision and recall over the two target categories of negative and positive texts. However, according to [research](https://mashable.com/2010/04/19/sentiment-analysis/) human raters typically only agree about 80% of the time (see Inter-rater reliability). Thus, a program which achieves 70% accuracy in classifying sentiment is doing nearly as well as humans, even though such accuracy may not sound impressive\n"
   ]
  },
  {
   "cell_type": "code",
   "execution_count": null,
   "metadata": {},
   "outputs": [
    {
     "name": "stdout",
     "output_type": "stream",
     "text": [
      "Labels of the classes are as below. These are required when generate classification report\n",
      "['Negative' 'Positive']\n"
     ]
    }
   ],
   "source": [
    "print ('Labels of the classes are as below. These are required when generate classification report')\n",
    "print (rf.classes_)"
   ]
  },
  {
   "cell_type": "markdown",
   "metadata": {},
   "source": [
    "**Classification report for Random Forest classifier**"
   ]
  },
  {
   "cell_type": "code",
   "execution_count": null,
   "metadata": {},
   "outputs": [
    {
     "name": "stdout",
     "output_type": "stream",
     "text": [
      "Classification Report for Random Forest Classifier:\n",
      "               precision    recall  f1-score   support\n",
      "\n",
      "    Negative      0.692     0.821     0.751      1057\n",
      "    Positive      0.812     0.679     0.740      1203\n",
      "\n",
      "    accuracy                          0.746      2260\n",
      "   macro avg      0.752     0.750     0.745      2260\n",
      "weighted avg      0.756     0.746     0.745      2260\n",
      "\n"
     ]
    }
   ],
   "source": [
    "print ('Classification Report for Random Forest Classifier:\\n',classification_report(y_test, y_pred_rf,digits=3))\n",
    "#print ('\\nConfussion matrix for Random Forest Classifier:\\n'),confusion_matrix(y_test,  y_pred_rf,)"
   ]
  },
  {
   "cell_type": "code",
   "execution_count": null,
   "metadata": {},
   "outputs": [
    {
     "data": {
      "text/plain": [
       "<Figure size 432x288 with 0 Axes>"
      ]
     },
     "metadata": {},
     "output_type": "display_data"
    },
    {
     "data": {
      "image/png": "[encoded data removed]",
      "text/plain": [
       "<Figure size 864x576 with 1 Axes>"
      ]
     },
     "metadata": {},
     "output_type": "display_data"
    }
   ],
   "source": [
    "cm = confusion_matrix(y_test,y_pred_rf)\n",
    "plt.figure()\n",
    "plot_confusion_matrix(cm,figsize=(12,8), hide_ticks=True,cmap=plt.cm.Reds)\n",
    "plt.xticks(range(2), rf.classes_, fontsize=20)\n",
    "plt.yticks(range(2), rf.classes_, fontsize=20)\n",
    "plt.show()"
   ]
  },
  {
   "cell_type": "markdown",
   "metadata": {},
   "source": [
    "References:\n",
    "\n",
    "* [The Basics of Sentiment Analysis](https://monkeylearn.com/sentiment-analysis/)\n",
    "* [Multiclass Classification Reporting and Interpretation](https://stackoverflow.com/questions/30746460/how-to-interpret-scikits-learn-confusion-matrix-and-classification-report)\n",
    "* <a href =\"https://8kmiles.com/blog/benchmarking-sentiment-analysis-systems/\">Benchmarking Sentiment Analysis</a>\n",
    "* <a href=\"https://www.lynda.com/Python-tutorials/NLP-Python-Machine-Learning-Essential-Training/622075-2.html\">NLP with Python for Machine Learning - Lynda.com Course</a>\n",
    "* <a href =\"https://github.com/haseebelahi/roman-urdu-stopwords\">Roman Urdu Stopwords</a>\n",
    "* <a href=\"https://www.datacamp.com/community/tutorials/wordcloud-python\">Wordcloud in Python</a>\n",
    "* <a href=\"https://www.kaggle.com/parthsharma5795/comprehensive-twitter-airline-sentiment-analysis\">Airline Twitter Sentiment Analysis</a>\n",
    "* <a href=\"https://www.analyticsvidhya.com/blog/2018/07/hands-on-sentiment-analysis-dataset-python/\">Hands on Guide to Twitter Sentiment Analysis</a>\n",
    "* <a href=\"https://stackoverflow.com/questions/31421413/how-to-compute-precision-recall-accuracy-and-f1-score-for-the-multiclass-case\">Stackoverflow</a>\n",
    "* <a href=\"https://towardsdatascience.com/multi-class-metrics-made-simple-part-ii-the-f1-score-ebe8b2c2ca1\">Multiclass Metric</a>"
   ]
  }
 ],
 "metadata": {
  "kernelspec": {
   "display_name": "Python 3.9.12 ('base')",
   "language": "python",
   "name": "python3"
  },
  "language_info": {
   "codemirror_mode": {
    "name": "ipython",
    "version": 3
   },
   "file_extension": ".py",
   "mimetype": "text/x-python",
   "name": "python",
   "nbconvert_exporter": "python",
   "pygments_lexer": "ipython3",
   "version": "3.9.12"
  },
  "vscode": {
   "interpreter": {
    "hash": "1cca9558bc5ad879ec93cc030b157d75f18267527c60932cecaace349eef54dd"
   }
  }
 },
 "nbformat": 4,
 "nbformat_minor": 1
}
